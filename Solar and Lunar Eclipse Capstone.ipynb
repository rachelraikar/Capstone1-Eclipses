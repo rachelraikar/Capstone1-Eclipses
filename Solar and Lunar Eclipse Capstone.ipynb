{
 "cells": [
  {
   "cell_type": "markdown",
   "metadata": {
    "heading_collapsed": true
   },
   "source": [
    "# Import and Data Wrangling"
   ]
  },
  {
   "cell_type": "code",
   "execution_count": 373,
   "metadata": {
    "hidden": true
   },
   "outputs": [],
   "source": [
    "#import all necessary modules\n",
    "\n",
    "import matplotlib.pyplot as plt\n",
    "import collections\n",
    "from collections import Counter\n",
    "import numpy as np\n",
    "import pandas as pd\n",
    "import array as arr\n",
    "import statistics as st\n",
    "import scipy.stats as stats\n",
    "from matplotlib import path\n",
    "from collections import OrderedDict, defaultdict \n",
    "%matplotlib inline "
   ]
  },
  {
   "cell_type": "code",
   "execution_count": 374,
   "metadata": {
    "hidden": true
   },
   "outputs": [],
   "source": [
    "#Read the lunar and solar eclipse csv files\n",
    "#NAN values replace '-'\n",
    "\n",
    "lunar_file = pd.read_csv('/Users/rachelraikar/Desktop/Spring/Spring-notes/solar-eclipses/lunar.csv',index_col='Catalog Number',na_values='-')\n",
    "solar_file = pd.read_csv('/Users/rachelraikar/Desktop/Spring/Spring-notes/solar-eclipses/solar.csv',index_col='Catalog Number',na_values='-')\n",
    "                   "
   ]
  },
  {
   "cell_type": "code",
   "execution_count": 375,
   "metadata": {
    "hidden": true,
    "scrolled": true
   },
   "outputs": [],
   "source": [
    "# Create a separate dataframes with the columns needed for analysis\n",
    "\n",
    "lunar = lunar_file[['Calendar Date', 'Eclipse Time', 'Delta T (s)','Eclipse Type', 'Latitude', 'Longitude',\n",
    "       'Penumbral Eclipse Duration (m)', 'Partial Eclipse Duration (m)','Total Eclipse Duration (m)']]\n",
    "solar = solar_file[['Calendar Date', 'Eclipse Time', 'Delta T (s)', 'Eclipse Type','Eclipse Magnitude',\n",
    "       'Latitude', 'Longitude', 'Sun Altitude', 'Sun Azimuth',\n",
    "       'Path Width (km)', 'Central Duration']]"
   ]
  },
  {
   "cell_type": "code",
   "execution_count": 376,
   "metadata": {
    "hidden": true
   },
   "outputs": [],
   "source": [
    "#create names to easily look at df heads while editing data\n",
    "sh = solar.head()\n",
    "lh = lunar.head()"
   ]
  },
  {
   "cell_type": "code",
   "execution_count": 377,
   "metadata": {
    "hidden": true,
    "scrolled": true
   },
   "outputs": [
    {
     "data": {
      "text/html": [
       "<div>\n",
       "<style scoped>\n",
       "    .dataframe tbody tr th:only-of-type {\n",
       "        vertical-align: middle;\n",
       "    }\n",
       "\n",
       "    .dataframe tbody tr th {\n",
       "        vertical-align: top;\n",
       "    }\n",
       "\n",
       "    .dataframe thead th {\n",
       "        text-align: right;\n",
       "    }\n",
       "</style>\n",
       "<table border=\"1\" class=\"dataframe\">\n",
       "  <thead>\n",
       "    <tr style=\"text-align: right;\">\n",
       "      <th></th>\n",
       "      <th>Calendar Date</th>\n",
       "      <th>Eclipse Time</th>\n",
       "      <th>Delta T (s)</th>\n",
       "      <th>Eclipse Type</th>\n",
       "      <th>Latitude</th>\n",
       "      <th>Longitude</th>\n",
       "      <th>Penumbral Eclipse Duration (m)</th>\n",
       "      <th>Partial Eclipse Duration (m)</th>\n",
       "      <th>Total Eclipse Duration (m)</th>\n",
       "    </tr>\n",
       "    <tr>\n",
       "      <th>Catalog Number</th>\n",
       "      <th></th>\n",
       "      <th></th>\n",
       "      <th></th>\n",
       "      <th></th>\n",
       "      <th></th>\n",
       "      <th></th>\n",
       "      <th></th>\n",
       "      <th></th>\n",
       "      <th></th>\n",
       "    </tr>\n",
       "  </thead>\n",
       "  <tbody>\n",
       "    <tr>\n",
       "      <th>1</th>\n",
       "      <td>-1999 June 26</td>\n",
       "      <td>14:13:28</td>\n",
       "      <td>46437</td>\n",
       "      <td>N</td>\n",
       "      <td>24S</td>\n",
       "      <td>22W</td>\n",
       "      <td>268.8</td>\n",
       "      <td>NaN</td>\n",
       "      <td>NaN</td>\n",
       "    </tr>\n",
       "    <tr>\n",
       "      <th>2</th>\n",
       "      <td>-1999 November 21</td>\n",
       "      <td>20:23:49</td>\n",
       "      <td>46427</td>\n",
       "      <td>N</td>\n",
       "      <td>15N</td>\n",
       "      <td>98W</td>\n",
       "      <td>233.4</td>\n",
       "      <td>NaN</td>\n",
       "      <td>NaN</td>\n",
       "    </tr>\n",
       "    <tr>\n",
       "      <th>3</th>\n",
       "      <td>-1998 May 17</td>\n",
       "      <td>05:47:36</td>\n",
       "      <td>46416</td>\n",
       "      <td>P</td>\n",
       "      <td>13S</td>\n",
       "      <td>89E</td>\n",
       "      <td>281.7</td>\n",
       "      <td>102.7</td>\n",
       "      <td>NaN</td>\n",
       "    </tr>\n",
       "    <tr>\n",
       "      <th>4</th>\n",
       "      <td>-1998 November 11</td>\n",
       "      <td>05:15:58</td>\n",
       "      <td>46404</td>\n",
       "      <td>P</td>\n",
       "      <td>12N</td>\n",
       "      <td>113E</td>\n",
       "      <td>343.4</td>\n",
       "      <td>200.8</td>\n",
       "      <td>NaN</td>\n",
       "    </tr>\n",
       "    <tr>\n",
       "      <th>5</th>\n",
       "      <td>-1997 May 6</td>\n",
       "      <td>18:57:01</td>\n",
       "      <td>46392</td>\n",
       "      <td>T+</td>\n",
       "      <td>11S</td>\n",
       "      <td>92W</td>\n",
       "      <td>322.8</td>\n",
       "      <td>213.5</td>\n",
       "      <td>98.2</td>\n",
       "    </tr>\n",
       "  </tbody>\n",
       "</table>\n",
       "</div>"
      ],
      "text/plain": [
       "                    Calendar Date Eclipse Time  Delta T (s) Eclipse Type  \\\n",
       "Catalog Number                                                             \n",
       "1                   -1999 June 26     14:13:28        46437            N   \n",
       "2               -1999 November 21     20:23:49        46427            N   \n",
       "3                    -1998 May 17     05:47:36        46416            P   \n",
       "4               -1998 November 11     05:15:58        46404            P   \n",
       "5                     -1997 May 6     18:57:01        46392           T+   \n",
       "\n",
       "               Latitude Longitude  Penumbral Eclipse Duration (m)  \\\n",
       "Catalog Number                                                      \n",
       "1                   24S       22W                           268.8   \n",
       "2                   15N       98W                           233.4   \n",
       "3                   13S       89E                           281.7   \n",
       "4                   12N      113E                           343.4   \n",
       "5                   11S       92W                           322.8   \n",
       "\n",
       "                Partial Eclipse Duration (m)  Total Eclipse Duration (m)  \n",
       "Catalog Number                                                            \n",
       "1                                        NaN                         NaN  \n",
       "2                                        NaN                         NaN  \n",
       "3                                      102.7                         NaN  \n",
       "4                                      200.8                         NaN  \n",
       "5                                      213.5                        98.2  "
      ]
     },
     "execution_count": 377,
     "metadata": {},
     "output_type": "execute_result"
    }
   ],
   "source": [
    "#display lunar dataframe for reference\n",
    "lh"
   ]
  },
  {
   "cell_type": "code",
   "execution_count": 378,
   "metadata": {
    "hidden": true
   },
   "outputs": [
    {
     "data": {
      "text/html": [
       "<div>\n",
       "<style scoped>\n",
       "    .dataframe tbody tr th:only-of-type {\n",
       "        vertical-align: middle;\n",
       "    }\n",
       "\n",
       "    .dataframe tbody tr th {\n",
       "        vertical-align: top;\n",
       "    }\n",
       "\n",
       "    .dataframe thead th {\n",
       "        text-align: right;\n",
       "    }\n",
       "</style>\n",
       "<table border=\"1\" class=\"dataframe\">\n",
       "  <thead>\n",
       "    <tr style=\"text-align: right;\">\n",
       "      <th></th>\n",
       "      <th>Calendar Date</th>\n",
       "      <th>Eclipse Time</th>\n",
       "      <th>Delta T (s)</th>\n",
       "      <th>Eclipse Type</th>\n",
       "      <th>Eclipse Magnitude</th>\n",
       "      <th>Latitude</th>\n",
       "      <th>Longitude</th>\n",
       "      <th>Sun Altitude</th>\n",
       "      <th>Sun Azimuth</th>\n",
       "      <th>Path Width (km)</th>\n",
       "      <th>Central Duration</th>\n",
       "    </tr>\n",
       "    <tr>\n",
       "      <th>Catalog Number</th>\n",
       "      <th></th>\n",
       "      <th></th>\n",
       "      <th></th>\n",
       "      <th></th>\n",
       "      <th></th>\n",
       "      <th></th>\n",
       "      <th></th>\n",
       "      <th></th>\n",
       "      <th></th>\n",
       "      <th></th>\n",
       "      <th></th>\n",
       "    </tr>\n",
       "  </thead>\n",
       "  <tbody>\n",
       "    <tr>\n",
       "      <th>1</th>\n",
       "      <td>-1999 June 12</td>\n",
       "      <td>03:14:51</td>\n",
       "      <td>46438</td>\n",
       "      <td>T</td>\n",
       "      <td>1.0733</td>\n",
       "      <td>6.0N</td>\n",
       "      <td>33.3W</td>\n",
       "      <td>74</td>\n",
       "      <td>344</td>\n",
       "      <td>247.0</td>\n",
       "      <td>06m37s</td>\n",
       "    </tr>\n",
       "    <tr>\n",
       "      <th>2</th>\n",
       "      <td>-1999 December 5</td>\n",
       "      <td>23:45:23</td>\n",
       "      <td>46426</td>\n",
       "      <td>A</td>\n",
       "      <td>0.9382</td>\n",
       "      <td>32.9S</td>\n",
       "      <td>10.8E</td>\n",
       "      <td>76</td>\n",
       "      <td>21</td>\n",
       "      <td>236.0</td>\n",
       "      <td>06m44s</td>\n",
       "    </tr>\n",
       "    <tr>\n",
       "      <th>3</th>\n",
       "      <td>-1998 June 1</td>\n",
       "      <td>18:09:16</td>\n",
       "      <td>46415</td>\n",
       "      <td>T</td>\n",
       "      <td>1.0284</td>\n",
       "      <td>46.2N</td>\n",
       "      <td>83.4E</td>\n",
       "      <td>60</td>\n",
       "      <td>151</td>\n",
       "      <td>111.0</td>\n",
       "      <td>02m15s</td>\n",
       "    </tr>\n",
       "    <tr>\n",
       "      <th>4</th>\n",
       "      <td>-1998 November 25</td>\n",
       "      <td>05:57:03</td>\n",
       "      <td>46403</td>\n",
       "      <td>A</td>\n",
       "      <td>0.9806</td>\n",
       "      <td>67.8S</td>\n",
       "      <td>143.8W</td>\n",
       "      <td>25</td>\n",
       "      <td>74</td>\n",
       "      <td>162.0</td>\n",
       "      <td>01m14s</td>\n",
       "    </tr>\n",
       "    <tr>\n",
       "      <th>5</th>\n",
       "      <td>-1997 April 22</td>\n",
       "      <td>13:19:56</td>\n",
       "      <td>46393</td>\n",
       "      <td>P</td>\n",
       "      <td>0.1611</td>\n",
       "      <td>60.6S</td>\n",
       "      <td>106.4W</td>\n",
       "      <td>0</td>\n",
       "      <td>281</td>\n",
       "      <td>NaN</td>\n",
       "      <td>NaN</td>\n",
       "    </tr>\n",
       "  </tbody>\n",
       "</table>\n",
       "</div>"
      ],
      "text/plain": [
       "                    Calendar Date Eclipse Time  Delta T (s) Eclipse Type  \\\n",
       "Catalog Number                                                             \n",
       "1                   -1999 June 12     03:14:51        46438            T   \n",
       "2                -1999 December 5     23:45:23        46426            A   \n",
       "3                    -1998 June 1     18:09:16        46415            T   \n",
       "4               -1998 November 25     05:57:03        46403            A   \n",
       "5                  -1997 April 22     13:19:56        46393            P   \n",
       "\n",
       "                Eclipse Magnitude Latitude Longitude  Sun Altitude  \\\n",
       "Catalog Number                                                       \n",
       "1                          1.0733     6.0N     33.3W            74   \n",
       "2                          0.9382    32.9S     10.8E            76   \n",
       "3                          1.0284    46.2N     83.4E            60   \n",
       "4                          0.9806    67.8S    143.8W            25   \n",
       "5                          0.1611    60.6S    106.4W             0   \n",
       "\n",
       "                Sun Azimuth  Path Width (km) Central Duration  \n",
       "Catalog Number                                                 \n",
       "1                       344            247.0           06m37s  \n",
       "2                        21            236.0           06m44s  \n",
       "3                       151            111.0           02m15s  \n",
       "4                        74            162.0           01m14s  \n",
       "5                       281              NaN              NaN  "
      ]
     },
     "execution_count": 378,
     "metadata": {},
     "output_type": "execute_result"
    }
   ],
   "source": [
    "#display solar dataframe for reference\n",
    "sh"
   ]
  },
  {
   "cell_type": "code",
   "execution_count": 379,
   "metadata": {
    "hidden": true
   },
   "outputs": [
    {
     "name": "stderr",
     "output_type": "stream",
     "text": [
      "/Library/Frameworks/Python.framework/Versions/3.7/lib/python3.7/site-packages/ipykernel_launcher.py:19: SettingWithCopyWarning: \n",
      "A value is trying to be set on a copy of a slice from a DataFrame.\n",
      "Try using .loc[row_indexer,col_indexer] = value instead\n",
      "\n",
      "See the caveats in the documentation: http://pandas.pydata.org/pandas-docs/stable/indexing.html#indexing-view-versus-copy\n",
      "/Library/Frameworks/Python.framework/Versions/3.7/lib/python3.7/site-packages/ipykernel_launcher.py:20: SettingWithCopyWarning: \n",
      "A value is trying to be set on a copy of a slice from a DataFrame.\n",
      "Try using .loc[row_indexer,col_indexer] = value instead\n",
      "\n",
      "See the caveats in the documentation: http://pandas.pydata.org/pandas-docs/stable/indexing.html#indexing-view-versus-copy\n"
     ]
    }
   ],
   "source": [
    "#['Calendar Date'] ->Solar and lunar eclipses during the five millennium period -1999 to +3000 (2000 BCE to 3000 CE).\n",
    "\n",
    "#splitting the column 'Calendar Date' into a list of month, day, year for convenience\n",
    "solar_dates = []\n",
    "for date in solar['Calendar Date']:\n",
    "    date = date.split()\n",
    "    date[0] = int(date[0])\n",
    "    date[2] = int(date[2])\n",
    "    solar_dates.append(date)\n",
    "\n",
    "lunar_dates = []\n",
    "for date in lunar['Calendar Date']:\n",
    "    date = date.split()\n",
    "    date[0] = int(date[0])\n",
    "    date[2] = int(date[2])\n",
    "    lunar_dates.append(date)\n",
    "\n",
    "#Replace the column in dataframe with the date list for each row : [year,month,day]\n",
    "solar['Calendar Date'] = solar_dates\n",
    "lunar['Calendar Date'] = lunar_dates\n"
   ]
  },
  {
   "cell_type": "markdown",
   "metadata": {},
   "source": [
    "# Exploratory Data Analysis (EDA) : Data Storytelling/ Trend Analysis"
   ]
  },
  {
   "cell_type": "markdown",
   "metadata": {},
   "source": [
    "Questions Asked:\n",
    "\n",
    "1. Which eclipse is more common?\n",
    "    - How many solar/lunar eclipses occur on average every year?\n",
    "    \n",
    "    \n",
    "2. Is there a monthly trend for when solar/lunar eclipses occur?\n",
    "    - Is it different for solar vs lunar eclipses?\n",
    "    - If so why are they more/less common during certain months?\n",
    "    \n",
    "    \n",
    "3. What months are total eclipses more common?\n",
    "    - Does it differ for solar/lunar eclipses?\n",
    "      "
   ]
  },
  {
   "cell_type": "markdown",
   "metadata": {
    "heading_collapsed": true
   },
   "source": [
    "## Which eclipse is more common? How many solar/lunar eclipses per year on average?\n",
    "\n",
    "There seem to be 166 more lunar eclipses than solar eclipses. After further investigation, it was found that on average solar and lunar eclipses had around 2 eclipses a year. There was no significant difference with solar eclipses (~2.3796/yr) and lunar eclipses (~2.4128/yr). But since this is over a 5 millennium period, the small difference can be seen affecting the total number of eclipses, that is that there have been more lunar than solar eclipses over this time frame 2000 BCE to 3000 CE."
   ]
  },
  {
   "cell_type": "code",
   "execution_count": 380,
   "metadata": {
    "hidden": true
   },
   "outputs": [
    {
     "name": "stdout",
     "output_type": "stream",
     "text": [
      "Number of lunar eclipses in 5 milleniums =  12064\n",
      "Number of solar eclipses in 5 milleniums =  11898\n",
      "Difference between solar and lunar eclipses =  166\n"
     ]
    }
   ],
   "source": [
    "print('Number of lunar eclipses in 5 milleniums = ', len(lunar))\n",
    "print('Number of solar eclipses in 5 milleniums = ', len(solar))\n",
    "\n",
    "print('Difference between solar and lunar eclipses = ', len(lunar) - len(solar))"
   ]
  },
  {
   "cell_type": "code",
   "execution_count": 381,
   "metadata": {
    "hidden": true
   },
   "outputs": [
    {
     "name": "stdout",
     "output_type": "stream",
     "text": [
      "Mean solar eclipses per year =  2.3796\n",
      "Mean lunar eclipses per year =  2.4128\n"
     ]
    }
   ],
   "source": [
    "#extracting just the years into lists\n",
    "solar_year = [date[0] for date in solar_dates]\n",
    "lunar_year = [date[0] for date in lunar_dates]\n",
    "\n",
    "#Make a dictionary of years and counts for solar and lunar eclipses\n",
    "solar_year_count = dict(Counter(solar_year))\n",
    "lunar_year_count = dict(Counter(lunar_year))\n",
    "\n",
    "#convert the value counts to list to perform operations\n",
    "solaryearvalues = list(solar_year_count.values())\n",
    "lunaryearvalues = list(lunar_year_count.values())\n",
    "\n",
    "#calculate and print the mean number of eclipses per year\n",
    "print('Mean solar eclipses per year = ', np.mean(solaryearvalues))\n",
    "print('Mean lunar eclipses per year = ', np.mean(lunaryearvalues))"
   ]
  },
  {
   "cell_type": "markdown",
   "metadata": {
    "heading_collapsed": true
   },
   "source": [
    "## Is there a monthly trend for when solar/lunar eclipses occur?\n",
    "- Is it different for solar vs lunar eclipses?\n",
    "\n",
    "    Solar and lunar eclipses seem to have relatively the same trend with every month as observed using data analysis plots.\n",
    "\n",
    "\n",
    "- If so why are they more/less common during certain months?\n",
    "\n",
    "    The trend seems directly correlated to how many days are in the month. More days in a month means more probability of an eclipse occurring during that month. That is why February seems to have the lowest number of eclipses since the month has the least number of days regardless of whether it is a leap year."
   ]
  },
  {
   "cell_type": "code",
   "execution_count": 382,
   "metadata": {
    "hidden": true,
    "scrolled": false
   },
   "outputs": [
    {
     "name": "stdout",
     "output_type": "stream",
     "text": [
      "           Solar Month Count\n",
      "June                     973\n",
      "December                1014\n",
      "November                 977\n",
      "April                    981\n",
      "May                     1009\n",
      "October                 1008\n",
      "March                   1009\n",
      "September                982\n",
      "February                 919\n",
      "August                  1008\n",
      "January                 1010\n",
      "July                    1008\n",
      "           Lunar Month Count\n",
      "June                     992\n",
      "November                 994\n",
      "May                     1025\n",
      "October                 1022\n",
      "April                    986\n",
      "March                   1028\n",
      "September                990\n",
      "August                  1015\n",
      "February                 936\n",
      "January                 1027\n",
      "December                1024\n",
      "July                    1025\n"
     ]
    }
   ],
   "source": [
    "#extracting just the months into lists\n",
    "solar_months = [date[1] for date in solar_dates]\n",
    "lunar_months = [date[1] for date in lunar_dates]\n",
    "\n",
    "#Make a dictionary of {month:counts} for solar and lunar eclipses\n",
    "solar_months_count = dict(Counter(solar_months))\n",
    "lunar_months_count = dict(Counter(lunar_months))\n",
    "\n",
    "#Make dataframes for better visual table analysis\n",
    "solar_months_df = pd.DataFrame.from_dict(solar_months_count, orient='index',columns=['Solar Month Count'])\n",
    "lunar_months_df = pd.DataFrame.from_dict(lunar_months_count, orient='index',columns=['Lunar Month Count'])\n",
    "\n",
    "#print the counts for observation\n",
    "print(solar_months_df)\n",
    "print(lunar_months_df)"
   ]
  },
  {
   "cell_type": "code",
   "execution_count": 383,
   "metadata": {
    "hidden": true
   },
   "outputs": [],
   "source": [
    "#defined a list of the months in order\n",
    "months = ['January', 'February', 'March','April','May','June','July','August','September','October','November','December']\n",
    "\n",
    "#create an ordered dictionary that reorders the previous dictionaries based on month list\n",
    "solar_months_ordered = OrderedDict(sorted(solar_months_count.items(),key =lambda x:months.index(x[0])))\n",
    "lunar_months_ordered = OrderedDict(sorted(lunar_months_count.items(),key =lambda x:months.index(x[0])))"
   ]
  },
  {
   "cell_type": "code",
   "execution_count": 384,
   "metadata": {
    "hidden": true,
    "scrolled": false
   },
   "outputs": [
    {
     "data": {
      "image/png": "[encoded data removed]",
      "text/plain": [
       "<Figure size 1080x432 with 1 Axes>"
      ]
     },
     "metadata": {
      "needs_background": "light"
     },
     "output_type": "display_data"
    }
   ],
   "source": [
    "#Plot the counts of solar eclipses for months \n",
    "_ = plt.figure(figsize=(15,6))\n",
    "\n",
    "_ = plt.bar(solar_months_ordered.keys(), solar_months_ordered.values())\n",
    "_ = plt.ylim(900,1050)\n",
    "_ = plt.rcParams['xtick.labelsize']=11\n",
    "_ = plt.rcParams['ytick.labelsize']=12\n",
    "_ = plt.xlabel('Months',size=20)\n",
    "_ = plt.ylabel('Count',size=20)\n",
    "_ = plt.title('Solar Eclipse Count by Month',size=20)\n",
    "_ = plt.savefig('SolarMonthCount.png')\n",
    "_ = plt.show() "
   ]
  },
  {
   "cell_type": "code",
   "execution_count": 385,
   "metadata": {
    "hidden": true,
    "scrolled": false
   },
   "outputs": [
    {
     "data": {
      "image/png": "[encoded data removed]",
      "text/plain": [
       "<Figure size 1080x432 with 1 Axes>"
      ]
     },
     "metadata": {
      "needs_background": "light"
     },
     "output_type": "display_data"
    }
   ],
   "source": [
    "#Plot the counts of lunar eclipses for months \n",
    "_ = plt.figure(figsize=(15,6))\n",
    "\n",
    "_ = plt.bar(lunar_months_ordered.keys(), lunar_months_ordered.values())\n",
    "_ = plt.ylim(900,1050)\n",
    "_ = plt.rcParams['xtick.labelsize']=11\n",
    "_ = plt.rcParams['ytick.labelsize']=12\n",
    "_ = plt.xlabel('Months',size=20)\n",
    "_ = plt.ylabel('Count',size=20)\n",
    "_ = plt.title('Lunar Eclipse Count by Month',size=20)\n",
    "_ = plt.savefig('LunarMonthCount.png')\n",
    "_ = plt.show() "
   ]
  },
  {
   "cell_type": "markdown",
   "metadata": {
    "heading_collapsed": true
   },
   "source": [
    "## What months are total eclipses more common?\n",
    "\n",
    "Since there are many types of eclipses, I want to focus on one type of eclipse. I will be focusing on a total eclipse for both lunar and solar eclipses. A total solar eclipse is characterized by the moon completely covering the sun in the sky. A total lunar eclipse is when the Earth's shadow completely covers the moon.\n",
    "\n",
    "After analysis, I first found that there have been a few hundred more total lunar eclipses than solar eclipses in the past 5 millenniums. This implies that total lunar eclipses are more common.\n",
    "\n",
    "- Does the trend differ between lunar and solar eclipses?\n",
    "\n",
    "    Total lunar eclipses seemed the follow the monthly trend that was seen earlier, where the number of eclipses was directly related to the number of days.\n",
    "\n",
    "    Total solar eclipses, however, seem to veer off this trend greatly. They seem to be more common during the second half of the year during the season's Fall and Winter (September - January). This will be an area of further study using statistical testing to test whether month plays a role in the probability of a solar eclipse occurring."
   ]
  },
  {
   "cell_type": "code",
   "execution_count": 386,
   "metadata": {
    "hidden": true
   },
   "outputs": [
    {
     "name": "stdout",
     "output_type": "stream",
     "text": [
      "Number of total solar eclipses = 3049\n"
     ]
    }
   ],
   "source": [
    "#make a empty list of total solar eclipses\n",
    "solar_type = []\n",
    "\n",
    "#if the 'Eclipse Type' column has T, then append to the list\n",
    "for i in solar['Eclipse Type']:\n",
    "    if i is 'T':\n",
    "        solar_type.append([i])\n",
    "\n",
    "#see how many total solar eclipses\n",
    "print('Number of total solar eclipses =', len(solar_type))"
   ]
  },
  {
   "cell_type": "code",
   "execution_count": 387,
   "metadata": {
    "hidden": true
   },
   "outputs": [
    {
     "name": "stdout",
     "output_type": "stream",
     "text": [
      "Number of total lunar eclipses = 3479\n"
     ]
    }
   ],
   "source": [
    "#make an empty list of total eclipses\n",
    "lunar_type = []\n",
    "\n",
    "#if the value is not NaN in 'Total Eclipse Duration' then append to the new list\n",
    "for i in lunar['Total Eclipse Duration (m)']:\n",
    "    if str(i) != 'nan':\n",
    "        lunar_type.append([i])\n",
    "\n",
    "#see how many total lunar eclipses\n",
    "print('Number of total lunar eclipses =',len(lunar_type))"
   ]
  },
  {
   "cell_type": "code",
   "execution_count": 388,
   "metadata": {
    "hidden": true
   },
   "outputs": [],
   "source": [
    "#Create df with columns needed for analysis\n",
    "solar_type = solar[['Calendar Date','Eclipse Type']]\n",
    "lunar_type = lunar[['Calendar Date','Total Eclipse Duration (m)']]"
   ]
  },
  {
   "cell_type": "code",
   "execution_count": 389,
   "metadata": {
    "hidden": true
   },
   "outputs": [
    {
     "name": "stdout",
     "output_type": "stream",
     "text": [
      "3049\n",
      "11898\n"
     ]
    }
   ],
   "source": [
    "#create df of solar eclipses with only total eclipses by keeping rows with 'T' in the column 'Eclipse Type'\n",
    "total_solar = solar.loc[solar['Eclipse Type'] == 'T']\n",
    "\n",
    "#double check length to be the same as number of total solar eclipses\n",
    "print(len(total_solar))\n",
    "print(len(solar_type))"
   ]
  },
  {
   "cell_type": "code",
   "execution_count": 390,
   "metadata": {
    "hidden": true
   },
   "outputs": [
    {
     "data": {
      "text/html": [
       "<div>\n",
       "<style scoped>\n",
       "    .dataframe tbody tr th:only-of-type {\n",
       "        vertical-align: middle;\n",
       "    }\n",
       "\n",
       "    .dataframe tbody tr th {\n",
       "        vertical-align: top;\n",
       "    }\n",
       "\n",
       "    .dataframe thead th {\n",
       "        text-align: right;\n",
       "    }\n",
       "</style>\n",
       "<table border=\"1\" class=\"dataframe\">\n",
       "  <thead>\n",
       "    <tr style=\"text-align: right;\">\n",
       "      <th></th>\n",
       "      <th>Calendar Date</th>\n",
       "      <th>Eclipse Time</th>\n",
       "      <th>Delta T (s)</th>\n",
       "      <th>Eclipse Type</th>\n",
       "      <th>Eclipse Magnitude</th>\n",
       "      <th>Latitude</th>\n",
       "      <th>Longitude</th>\n",
       "      <th>Sun Altitude</th>\n",
       "      <th>Sun Azimuth</th>\n",
       "      <th>Path Width (km)</th>\n",
       "      <th>Central Duration</th>\n",
       "    </tr>\n",
       "    <tr>\n",
       "      <th>Catalog Number</th>\n",
       "      <th></th>\n",
       "      <th></th>\n",
       "      <th></th>\n",
       "      <th></th>\n",
       "      <th></th>\n",
       "      <th></th>\n",
       "      <th></th>\n",
       "      <th></th>\n",
       "      <th></th>\n",
       "      <th></th>\n",
       "      <th></th>\n",
       "    </tr>\n",
       "  </thead>\n",
       "  <tbody>\n",
       "    <tr>\n",
       "      <th>1</th>\n",
       "      <td>[-1999, June, 12]</td>\n",
       "      <td>03:14:51</td>\n",
       "      <td>46438</td>\n",
       "      <td>T</td>\n",
       "      <td>1.0733</td>\n",
       "      <td>6.0N</td>\n",
       "      <td>33.3W</td>\n",
       "      <td>74</td>\n",
       "      <td>344</td>\n",
       "      <td>247.0</td>\n",
       "      <td>06m37s</td>\n",
       "    </tr>\n",
       "    <tr>\n",
       "      <th>3</th>\n",
       "      <td>[-1998, June, 1]</td>\n",
       "      <td>18:09:16</td>\n",
       "      <td>46415</td>\n",
       "      <td>T</td>\n",
       "      <td>1.0284</td>\n",
       "      <td>46.2N</td>\n",
       "      <td>83.4E</td>\n",
       "      <td>60</td>\n",
       "      <td>151</td>\n",
       "      <td>111.0</td>\n",
       "      <td>02m15s</td>\n",
       "    </tr>\n",
       "    <tr>\n",
       "      <th>10</th>\n",
       "      <td>[-1996, October, 4]</td>\n",
       "      <td>23:23:37</td>\n",
       "      <td>46358</td>\n",
       "      <td>T</td>\n",
       "      <td>1.0257</td>\n",
       "      <td>28.8N</td>\n",
       "      <td>38.6E</td>\n",
       "      <td>59</td>\n",
       "      <td>214</td>\n",
       "      <td>101.0</td>\n",
       "      <td>02m04s</td>\n",
       "    </tr>\n",
       "  </tbody>\n",
       "</table>\n",
       "</div>"
      ],
      "text/plain": [
       "                      Calendar Date Eclipse Time  Delta T (s) Eclipse Type  \\\n",
       "Catalog Number                                                               \n",
       "1                 [-1999, June, 12]     03:14:51        46438            T   \n",
       "3                  [-1998, June, 1]     18:09:16        46415            T   \n",
       "10              [-1996, October, 4]     23:23:37        46358            T   \n",
       "\n",
       "                Eclipse Magnitude Latitude Longitude  Sun Altitude  \\\n",
       "Catalog Number                                                       \n",
       "1                          1.0733     6.0N     33.3W            74   \n",
       "3                          1.0284    46.2N     83.4E            60   \n",
       "10                         1.0257    28.8N     38.6E            59   \n",
       "\n",
       "                Sun Azimuth  Path Width (km) Central Duration  \n",
       "Catalog Number                                                 \n",
       "1                       344            247.0           06m37s  \n",
       "3                       151            111.0           02m15s  \n",
       "10                      214            101.0           02m04s  "
      ]
     },
     "execution_count": 390,
     "metadata": {},
     "output_type": "execute_result"
    }
   ],
   "source": [
    "#print the df head for visual analysis \n",
    "total_solar.head(3)"
   ]
  },
  {
   "cell_type": "code",
   "execution_count": 391,
   "metadata": {
    "hidden": true
   },
   "outputs": [
    {
     "name": "stdout",
     "output_type": "stream",
     "text": [
      "3479\n",
      "12064\n"
     ]
    }
   ],
   "source": [
    "#create df of lunar eclipses with only total eclipses by dropping rows that have Nans in the column\n",
    "    #'Total Eclipse Duration (m)'\n",
    "\n",
    "total_lunar = lunar.dropna(subset=['Total Eclipse Duration (m)'])\n",
    "\n",
    "#double check length to be the same as number of total solar eclipses\n",
    "print(len(total_lunar))\n",
    "print(len(lunar_type))"
   ]
  },
  {
   "cell_type": "code",
   "execution_count": 392,
   "metadata": {
    "hidden": true
   },
   "outputs": [
    {
     "data": {
      "text/html": [
       "<div>\n",
       "<style scoped>\n",
       "    .dataframe tbody tr th:only-of-type {\n",
       "        vertical-align: middle;\n",
       "    }\n",
       "\n",
       "    .dataframe tbody tr th {\n",
       "        vertical-align: top;\n",
       "    }\n",
       "\n",
       "    .dataframe thead th {\n",
       "        text-align: right;\n",
       "    }\n",
       "</style>\n",
       "<table border=\"1\" class=\"dataframe\">\n",
       "  <thead>\n",
       "    <tr style=\"text-align: right;\">\n",
       "      <th></th>\n",
       "      <th>Calendar Date</th>\n",
       "      <th>Eclipse Time</th>\n",
       "      <th>Delta T (s)</th>\n",
       "      <th>Eclipse Type</th>\n",
       "      <th>Latitude</th>\n",
       "      <th>Longitude</th>\n",
       "      <th>Penumbral Eclipse Duration (m)</th>\n",
       "      <th>Partial Eclipse Duration (m)</th>\n",
       "      <th>Total Eclipse Duration (m)</th>\n",
       "    </tr>\n",
       "    <tr>\n",
       "      <th>Catalog Number</th>\n",
       "      <th></th>\n",
       "      <th></th>\n",
       "      <th></th>\n",
       "      <th></th>\n",
       "      <th></th>\n",
       "      <th></th>\n",
       "      <th></th>\n",
       "      <th></th>\n",
       "      <th></th>\n",
       "    </tr>\n",
       "  </thead>\n",
       "  <tbody>\n",
       "    <tr>\n",
       "      <th>5</th>\n",
       "      <td>[-1997, May, 6]</td>\n",
       "      <td>18:57:01</td>\n",
       "      <td>46392</td>\n",
       "      <td>T+</td>\n",
       "      <td>11S</td>\n",
       "      <td>92W</td>\n",
       "      <td>322.8</td>\n",
       "      <td>213.5</td>\n",
       "      <td>98.2</td>\n",
       "    </tr>\n",
       "    <tr>\n",
       "      <th>6</th>\n",
       "      <td>[-1997, October, 31]</td>\n",
       "      <td>06:54:09</td>\n",
       "      <td>46380</td>\n",
       "      <td>T+</td>\n",
       "      <td>9N</td>\n",
       "      <td>88E</td>\n",
       "      <td>374.4</td>\n",
       "      <td>228.7</td>\n",
       "      <td>90.6</td>\n",
       "    </tr>\n",
       "    <tr>\n",
       "      <th>15</th>\n",
       "      <td>[-1993, February, 23]</td>\n",
       "      <td>02:59:48</td>\n",
       "      <td>46300</td>\n",
       "      <td>T-</td>\n",
       "      <td>16N</td>\n",
       "      <td>153E</td>\n",
       "      <td>371.8</td>\n",
       "      <td>228.2</td>\n",
       "      <td>87.7</td>\n",
       "    </tr>\n",
       "  </tbody>\n",
       "</table>\n",
       "</div>"
      ],
      "text/plain": [
       "                        Calendar Date Eclipse Time  Delta T (s) Eclipse Type  \\\n",
       "Catalog Number                                                                 \n",
       "5                     [-1997, May, 6]     18:57:01        46392           T+   \n",
       "6                [-1997, October, 31]     06:54:09        46380           T+   \n",
       "15              [-1993, February, 23]     02:59:48        46300           T-   \n",
       "\n",
       "               Latitude Longitude  Penumbral Eclipse Duration (m)  \\\n",
       "Catalog Number                                                      \n",
       "5                   11S       92W                           322.8   \n",
       "6                    9N       88E                           374.4   \n",
       "15                  16N      153E                           371.8   \n",
       "\n",
       "                Partial Eclipse Duration (m)  Total Eclipse Duration (m)  \n",
       "Catalog Number                                                            \n",
       "5                                      213.5                        98.2  \n",
       "6                                      228.7                        90.6  \n",
       "15                                     228.2                        87.7  "
      ]
     },
     "execution_count": 392,
     "metadata": {},
     "output_type": "execute_result"
    }
   ],
   "source": [
    "#print the df head for visual analysis \n",
    "total_lunar.head(3)"
   ]
  },
  {
   "cell_type": "code",
   "execution_count": 393,
   "metadata": {
    "hidden": true
   },
   "outputs": [],
   "source": [
    "#create a dictionary using a counter for the months where the total lunar eclipses occur\n",
    "total_lunar_months = dict(Counter([date[1] for date in total_lunar['Calendar Date']]))"
   ]
  },
  {
   "cell_type": "code",
   "execution_count": 394,
   "metadata": {
    "hidden": true
   },
   "outputs": [
    {
     "data": {
      "text/plain": [
       "{'May': 297,\n",
       " 'October': 290,\n",
       " 'February': 260,\n",
       " 'August': 299,\n",
       " 'December': 290,\n",
       " 'June': 294,\n",
       " 'April': 290,\n",
       " 'September': 285,\n",
       " 'January': 296,\n",
       " 'July': 301,\n",
       " 'November': 286,\n",
       " 'March': 291}"
      ]
     },
     "execution_count": 394,
     "metadata": {},
     "output_type": "execute_result"
    }
   ],
   "source": [
    "#print dict for analysis\n",
    "total_lunar_months"
   ]
  },
  {
   "cell_type": "code",
   "execution_count": 395,
   "metadata": {
    "hidden": true
   },
   "outputs": [],
   "source": [
    "#create a dictionary using a counter for the months where the total solar eclipses occur\n",
    "total_solar_months = dict(Counter([date[1] for date in total_solar['Calendar Date']]))"
   ]
  },
  {
   "cell_type": "code",
   "execution_count": 396,
   "metadata": {
    "hidden": true
   },
   "outputs": [
    {
     "data": {
      "text/plain": [
       "{'June': 295,\n",
       " 'October': 225,\n",
       " 'March': 274,\n",
       " 'January': 220,\n",
       " 'July': 297,\n",
       " 'November': 203,\n",
       " 'February': 216,\n",
       " 'April': 283,\n",
       " 'August': 287,\n",
       " 'December': 213,\n",
       " 'May': 296,\n",
       " 'September': 240}"
      ]
     },
     "execution_count": 396,
     "metadata": {},
     "output_type": "execute_result"
    }
   ],
   "source": [
    "#print dict for analysis\n",
    "total_solar_months"
   ]
  },
  {
   "cell_type": "code",
   "execution_count": 397,
   "metadata": {
    "hidden": true
   },
   "outputs": [],
   "source": [
    "#create an ordered dictionary that reorders the previous dictionaries based on month list\n",
    "total_solar_months_ordered = OrderedDict(sorted(total_solar_months.items(),key =lambda x:months.index(x[0])))\n",
    "total_lunar_months_ordered = OrderedDict(sorted(total_lunar_months.items(),key =lambda x:months.index(x[0])))"
   ]
  },
  {
   "cell_type": "code",
   "execution_count": 398,
   "metadata": {
    "hidden": true
   },
   "outputs": [
    {
     "data": {
      "image/png": "[encoded data removed]",
      "text/plain": [
       "<Figure size 1080x432 with 1 Axes>"
      ]
     },
     "metadata": {
      "needs_background": "light"
     },
     "output_type": "display_data"
    }
   ],
   "source": [
    "#Plot the counts of solar eclipses for months in order\n",
    "_ = plt.figure(figsize=(15,6))\n",
    "\n",
    "_ = plt.bar(total_solar_months_ordered.keys(), total_solar_months_ordered.values())\n",
    "_ = plt.ylim(200,310)\n",
    "_ = plt.rcParams['xtick.labelsize']=11\n",
    "_ = plt.rcParams['ytick.labelsize']=12\n",
    "_ = plt.xlabel('Months',size=20)\n",
    "_ = plt.ylabel('Count',size=20)\n",
    "_ = plt.title('Total Solar Eclipse Count by Month',size=20)\n",
    "_ = plt.savefig('TotalSolarCount.png')\n",
    "_ = plt.show() "
   ]
  },
  {
   "cell_type": "code",
   "execution_count": 399,
   "metadata": {
    "hidden": true
   },
   "outputs": [
    {
     "data": {
      "image/png": "[encoded data removed]",
      "text/plain": [
       "<Figure size 1080x432 with 1 Axes>"
      ]
     },
     "metadata": {
      "needs_background": "light"
     },
     "output_type": "display_data"
    }
   ],
   "source": [
    "#Plot the counts of lunar eclipses for months in order\n",
    "_ = plt.figure(figsize=(15,6))\n",
    "\n",
    "_ = plt.bar(total_lunar_months_ordered.keys(), total_lunar_months_ordered.values())\n",
    "_ = plt.ylim(200,310)\n",
    "_ = plt.rcParams['xtick.labelsize']=11\n",
    "_ = plt.rcParams['ytick.labelsize']=12\n",
    "_ = plt.xlabel('Months',size=20)\n",
    "_ = plt.ylabel('Count',size=20)\n",
    "_ = plt.title('Total Lunar Eclipse Count by Month',size=20)\n",
    "_ = plt.savefig('TotalLunarCount.png')\n",
    "_ = plt.show()"
   ]
  },
  {
   "cell_type": "markdown",
   "metadata": {},
   "source": [
    "# Exploratory Data Analysis (EDA): Statistical Analysis Part 1 "
   ]
  },
  {
   "cell_type": "raw",
   "metadata": {},
   "source": [
    "QUESTION: Is the probability of a total eclipse directly correlated to the months in the year?\n",
    "\n",
    "    During the visual analysis above, it seemed that solar eclipses had a high count during the months of spring and summer and a low count during the months of fall and winter. But lunar eclipses seemed to be relatively the same count for all months. \n",
    "\n",
    "For the statistical analysis, I have divided the data into two groups based on monthly analysis for both solar and lunar eclipses. \n",
    "\n",
    "    Group 1: September - February (Fall - Winter according to US seasons)\n",
    "\n",
    "    Group 2: March - August (Spring - Summer according to US season)\n",
    "\n",
    "HYPOTHESIS TEST: To test the hypothesis that total eclipse is not directly correlated to the months in the year, we will assume the following null and alternative hypothesis. This hypothesis test will be performed for both solar and lunar eclipses.\n",
    "\n",
    "$H_{o}$ : The probability of total eclipse occurring is the same for Group 1 and Group 2. ($p_1 = p_2$)\n",
    "\n",
    "$H_{a}$ : The probability of total eclipse occurring is not the same for Group 1 and Group 2. ($p_1 \\neq p_2$)"
   ]
  },
  {
   "cell_type": "markdown",
   "metadata": {},
   "source": [
    "## Solar Eclipses"
   ]
  },
  {
   "cell_type": "code",
   "execution_count": 400,
   "metadata": {},
   "outputs": [],
   "source": [
    "#group 1: fall-winter [septemeber -> february], group 2: spring-summer [march -> august]\n",
    "group1_months = ['September', 'October', 'November', 'December', 'January', 'February']\n",
    "group2_months = ['March', 'April', 'May', 'June', 'July', 'August']\n",
    "\n",
    "#Create dictionaries of group 1 and group 2 data \n",
    "group1_total_solar_eclipse_dict = defaultdict(int)\n",
    "group2_total_solar_eclipse_dict = defaultdict(int)\n",
    "\n",
    "\n",
    "#Iterate over solar eclipse df and create dictionaries for each group: \n",
    "for ind, row in solar.iterrows():\n",
    "   \n",
    "    # create the key to be the year, month of the date the eclipse occured\n",
    "    year, month = row['Calendar Date'][0], row['Calendar Date'][1]\n",
    "    dict_key = (year, month)\n",
    "    \n",
    "    #append values dictionary for group 1: total eclipse is 1 else 0\n",
    "    if month in group1_months:\n",
    "        if row['Eclipse Type'] == 'T':\n",
    "            group1_total_solar_eclipse_dict[dict_key] += 1\n",
    "        else:\n",
    "            group1_total_solar_eclipse_dict[dict_key] += 0\n",
    "            \n",
    "    #append values dictionary for group 2: total eclipse is 1 else 0\n",
    "    else:\n",
    "        if row['Eclipse Type'] == 'T':\n",
    "            group2_total_solar_eclipse_dict[dict_key] += 1\n",
    "        else:\n",
    "            group2_total_solar_eclipse_dict[dict_key] += 0\n"
   ]
  },
  {
   "cell_type": "code",
   "execution_count": 401,
   "metadata": {},
   "outputs": [],
   "source": [
    "#length of group 1 and 2 (sample size: n)\n",
    "solar_n1 = len(group1_total_solar_eclipse_dict.values())\n",
    "solar_n2 = len(group2_total_solar_eclipse_dict.values())\n",
    "\n",
    "#probability of total eclipse in group 1 and 2: p1 and p2\n",
    "solar_p1 = float(sum(group1_total_solar_eclipse_dict.values()) / solar_n1)\n",
    "solar_p2 = float(sum(group2_total_solar_eclipse_dict.values()) / solar_n2)"
   ]
  },
  {
   "cell_type": "code",
   "execution_count": 410,
   "metadata": {},
   "outputs": [
    {
     "data": {
      "image/png": "[encoded data removed]",
      "text/plain": [
       "<Figure size 1440x432 with 2 Axes>"
      ]
     },
     "metadata": {
      "needs_background": "light"
     },
     "output_type": "display_data"
    }
   ],
   "source": [
    "_ = plt.rcParams['figure.figsize'] = 20,6 \n",
    "\n",
    "#Plot on the left\n",
    "_ = plt.subplot(1, 2, 1)\n",
    "_ = plt.bar(['Non-Total Eclipse', 'Total Eclipse'], [1-solar_p1,solar_p1])\n",
    "_ = plt.xlabel('Group 1', size=30)\n",
    "_ = plt.ylabel('Probability',size=30)\n",
    "_ = plt.ylim(0,0.8)\n",
    "\n",
    "#plot on the right\n",
    "_ = plt.subplot(1, 2, 2)\n",
    "_ = plt.bar(['Non-Total Eclipse', 'Total Eclipse'], [1-solar_p2,solar_p2])\n",
    "_ = plt.xlabel('Group 2',size=30 )\n",
    "_ = plt.ylim(0,0.8)\n",
    "\n",
    "#edits the sizing of both plots\n",
    "_ = plt.tight_layout()\n",
    "_ = plt.rcParams['xtick.labelsize']=15\n",
    "_ = plt.rcParams['ytick.labelsize']=20\n",
    "_ = plt.suptitle('Bernoulli Probability Distribution of Total Solar Eclipses',size = 25,y=1.05)\n",
    "_ = plt.savefig('TotalSolar.png')\n",
    "_ = plt.show()"
   ]
  },
  {
   "cell_type": "code",
   "execution_count": 403,
   "metadata": {},
   "outputs": [
    {
     "name": "stdout",
     "output_type": "stream",
     "text": [
      "margin of error =  0.01568255159230949\n",
      "confidence interval =  [-0.01568255  0.01568255]\n",
      "p_1 - p_2 =  -0.06719435763444165\n"
     ]
    }
   ],
   "source": [
    "#compute the standard deviations of each group \n",
    "solar_sigma1 = np.sqrt(solar_p1 * (1-solar_p1) / solar_n1)\n",
    "solar_sigma2 = np.sqrt(solar_p2 * (1-solar_p2) / solar_n2)\n",
    "\n",
    "#calculate the standard deviation difference \n",
    "solar_sigma_diff = np.sqrt((solar_sigma1**2) + (solar_sigma2**2))\n",
    "\n",
    "#for 95% confidence interval, we use the critical Z-value of 1.96\n",
    "z_value = 1.96\n",
    "\n",
    "#calculate the margin of error for frequential test: critical z-value * std\n",
    "margin_error = z_value * solar_sigma_diff\n",
    "print ('margin of error = ', margin_error)\n",
    "\n",
    "#Find a confidence interval of 95% for frequential test: mean +/- margin or error\n",
    "conf_interval = np.array([-1, +1]) * margin_error\n",
    "print('confidence interval = ',conf_interval)\n",
    "\n",
    "#Print actual proportion difference\n",
    "solar_p1_p2 = solar_p1-solar_p2\n",
    "print ('p_1 - p_2 = ', solar_p1_p2)"
   ]
  },
  {
   "cell_type": "code",
   "execution_count": 404,
   "metadata": {
    "scrolled": true
   },
   "outputs": [
    {
     "data": {
      "image/png": "[encoded data removed]",
      "text/plain": [
       "<Figure size 1440x432 with 1 Axes>"
      ]
     },
     "metadata": {
      "needs_background": "light"
     },
     "output_type": "display_data"
    }
   ],
   "source": [
    "#create a plot displaying the sampling distribution for visual analysis\n",
    "x= np.linspace(0-8*solar_sigma_diff, 0+8*solar_sigma_diff,100)\n",
    "plt.axvline(x=solar_distance, color='g', label ='Confidence Interval')\n",
    "plt.axvline(x=-solar_distance,color='g')\n",
    "plt.axvline(x=solar_p1 - solar_p2,color='r',label='Actual Difference of Proportions')\n",
    "plt.plot(x,stats.norm.pdf(x,0,solar_sigma_diff))\n",
    "plt.xlim(-0.075,0.075)\n",
    "plt.title('Sampling Distribution of Difference of Population Proportions - Total Solar Eclipses',size=20)\n",
    "plt.legend(fontsize=15)\n",
    "plt.savefig('SolarDist.png')\n",
    "plt.show()"
   ]
  },
  {
   "cell_type": "markdown",
   "metadata": {},
   "source": [
    "As seen above, the actual difference in proportions is outside the confidence interval range. Therefore we can reject the null hypothesis which states that the total solar eclipse has the same probability of occuring in both month groups."
   ]
  },
  {
   "cell_type": "markdown",
   "metadata": {},
   "source": [
    "## Lunar Eclipses"
   ]
  },
  {
   "cell_type": "code",
   "execution_count": 405,
   "metadata": {},
   "outputs": [],
   "source": [
    "#group 1: fall-winter [septemeber -> february], group 2: spring-summer [march -> august]\n",
    "group1_months = ['September', 'October', 'November', 'December', 'January', 'February']\n",
    "group2_months = ['March', 'April', 'May', 'June', 'July', 'August']\n",
    "\n",
    "#Create dictionaries of group 1 and group 2 data \n",
    "group1_total_lunar_eclipse_dict = defaultdict(int)\n",
    "group2_total_lunar_eclipse_dict = defaultdict(int)\n",
    "\n",
    "\n",
    "#Iterate over lunar eclipse df and create dictionaries for each group: \n",
    "for ind, row in lunar.iterrows():\n",
    "   \n",
    "    # create the key to be the year, month of the date the eclipse occured\n",
    "    year, month = row['Calendar Date'][0], row['Calendar Date'][1]\n",
    "    dict_key = (year, month)\n",
    "    \n",
    "    #append values dictionary for group 1: total eclipse is 1 else 0\n",
    "    if month in group1_months:\n",
    "        if row['Eclipse Type'] == 'T':\n",
    "            group1_total_lunar_eclipse_dict[dict_key] += 1\n",
    "        else:\n",
    "            group1_total_lunar_eclipse_dict[dict_key] += 0\n",
    "            \n",
    "    #append values dictionary for group 2: total eclipse is 1 else 0\n",
    "    else:\n",
    "        if row['Eclipse Type'] == 'T':\n",
    "            group2_total_lunar_eclipse_dict[dict_key] += 1\n",
    "        else:\n",
    "            group2_total_lunar_eclipse_dict[dict_key] += 0\n"
   ]
  },
  {
   "cell_type": "code",
   "execution_count": 406,
   "metadata": {},
   "outputs": [],
   "source": [
    "#length of group 1 and 2 (sample size: n)\n",
    "lunar_n1 = len(group1_total_lunar_eclipse_dict.values())\n",
    "lunar_n2 = len(group2_total_lunar_eclipse_dict.values())\n",
    "\n",
    "#probability of total eclipse in group 1 and 2: p1 and p2\n",
    "lunar_p1 = float(sum(group1_total_lunar_eclipse_dict.values()) / lunar_n1)\n",
    "lunar_p2 = float(sum(group2_total_lunar_eclipse_dict.values()) / lunar_n2)"
   ]
  },
  {
   "cell_type": "code",
   "execution_count": 407,
   "metadata": {},
   "outputs": [
    {
     "data": {
      "image/png": "[encoded data removed]",
      "text/plain": [
       "<Figure size 1440x432 with 2 Axes>"
      ]
     },
     "metadata": {
      "needs_background": "light"
     },
     "output_type": "display_data"
    }
   ],
   "source": [
    "_ = plt.rcParams['figure.figsize'] = 20,6 \n",
    "\n",
    "#Plot on the left\n",
    "_ = plt.subplot(1, 2, 1)\n",
    "_ = plt.bar(['Non-Total Eclipse', 'Total Eclipse'], [1-lunar_p1,lunar_p1])\n",
    "_ = plt.xlabel('Group 1', size=30)\n",
    "_ = plt.ylabel('Probability',size=30)\n",
    "_ = plt.ylim(0,1)\n",
    "\n",
    "#plot on the right\n",
    "_ = plt.subplot(1, 2, 2)\n",
    "_ = plt.bar(['Non-Total Eclipse', 'Total Eclipse'], [1-lunar_p2,lunar_p2])\n",
    "_ = plt.xlabel('Group 2',size=30)\n",
    "_ = plt.ylim(0,1)\n",
    "\n",
    "#edits the sizing of both plots\n",
    "_ = plt.tight_layout()\n",
    "_ = plt.rcParams['xtick.labelsize']=15\n",
    "_ = plt.rcParams['ytick.labelsize']=20\n",
    "_ = plt.suptitle('Bernoulli Probability Distribution of Total Lunar Eclipses',size = 25,y=1.05)\n",
    "_ = plt.savefig('TotalLunar.png')\n",
    "_ = plt.show()"
   ]
  },
  {
   "cell_type": "code",
   "execution_count": 408,
   "metadata": {},
   "outputs": [
    {
     "name": "stdout",
     "output_type": "stream",
     "text": [
      "margin of error =  0.011497635354007652\n",
      "confidence interval =  [-0.01149764  0.01149764]\n",
      "p_1 - p_2 =  -0.005601561775998562\n"
     ]
    }
   ],
   "source": [
    "#compute the standard deviations of each group \n",
    "lunar_sigma1 = np.sqrt(lunar_p1 * (1-lunar_p1) / lunar_n1)\n",
    "lunar_sigma2 = np.sqrt(lunar_p2 * (1-lunar_p2) / lunar_n2)\n",
    "\n",
    "#calculate the standard deviation difference \n",
    "lunar_sigma_diff = np.sqrt((lunar_sigma1**2) + (lunar_sigma2**2))\n",
    "\n",
    "#for 95% confidence interval, we use the critical Z-value of 1.96\n",
    "z_value = 1.96\n",
    "\n",
    "#calculate the margin of error for frequential test: critical z-value * std\n",
    "margin_error = z_value * lunar_sigma_diff\n",
    "print ('margin of error = ', margin_error)\n",
    "\n",
    "#Find a confidence interval of 95% for frequential test: mean +/- margin or error\n",
    "conf_interval = np.array([-1, +1]) * margin_error\n",
    "print('confidence interval = ',conf_interval)\n",
    "\n",
    "#Print actual proportion difference\n",
    "lunar_p1_p2 = lunar_p1-lunar_p2\n",
    "print ('p_1 - p_2 = ', lunar_p1_p2)"
   ]
  },
  {
   "cell_type": "code",
   "execution_count": 409,
   "metadata": {
    "scrolled": false
   },
   "outputs": [
    {
     "data": {
      "image/png": "[encoded data removed]",
      "text/plain": [
       "<Figure size 1440x432 with 1 Axes>"
      ]
     },
     "metadata": {
      "needs_background": "light"
     },
     "output_type": "display_data"
    }
   ],
   "source": [
    "#create a plot displaying the sampling distribution for visual analysis\n",
    "x= np.linspace(0-8*lunar_sigma_diff, 0+8*lunar_sigma_diff,100)\n",
    "plt.axvline(x=lunar_distance, color='g', label ='Confidence Interval')\n",
    "plt.axvline(x=-lunar_distance,color='g')\n",
    "plt.axvline(x=lunar_p1 - lunar_p2,color='r',label='Actual Difference of Proportions')\n",
    "plt.plot(x,stats.norm.pdf(x,0,lunar_sigma_diff))\n",
    "plt.xlim(-0.025,0.025)\n",
    "plt.title('Sampling Distribution of Difference of Population Proportions - Lunar Eclipses',size=20)\n",
    "plt.legend(fontsize=14)\n",
    "plt.savefig('LunarDist.png')\n",
    "plt.show()"
   ]
  },
  {
   "cell_type": "markdown",
   "metadata": {},
   "source": [
    "As seen above, the actual difference in proportions is inside the confidence interval range. Therefore we cannot reject the null hypothesis which states that the total lunar eclipse has the same probability of occuring in both month groups."
   ]
  },
  {
   "cell_type": "markdown",
   "metadata": {},
   "source": [
    "# Exploratory Data Analysis (EDA): Statistical Analysis Part 2 "
   ]
  },
  {
   "cell_type": "markdown",
   "metadata": {},
   "source": [
    "This hypothesis test will be performed for both solar and lunar eclipses but with a smaller sample size of the past 400 years (1600-2000). Since it is known that most of the data has been calculated and not recorded, it would be interesting to test it on data where is was plausible for humans to have record of the eclipses. We will perform T-tests instead of Z-tests, since it is a small sample size of less than 10% of the parent poluation (np < 0.1) and we cannot assume the distribution is normal. \n",
    "\n",
    "HYPOTHESIS TEST: To test the hypothesis that total eclipse is not directly correlated to the months in the year, we will assume the following null and alternative hypothesis. \n",
    "\n",
    "𝐻𝑜  : The probability of total eclipse occuring is the same for Group 1 and Group 2. ( 𝑝1=𝑝2 )\n",
    "\n",
    "𝐻𝑎  : The probability of total eclipse occuring is not the same for Group 1 and Group 2. ( 𝑝1≠𝑝2 )"
   ]
  },
  {
   "cell_type": "code",
   "execution_count": null,
   "metadata": {},
   "outputs": [],
   "source": []
  },
  {
   "cell_type": "code",
   "execution_count": null,
   "metadata": {},
   "outputs": [],
   "source": []
  },
  {
   "cell_type": "code",
   "execution_count": null,
   "metadata": {},
   "outputs": [],
   "source": []
  },
  {
   "cell_type": "markdown",
   "metadata": {},
   "source": [
    "------------------------------------THE END------------------------------------"
   ]
  }
 ],
 "metadata": {
  "kernelspec": {
   "display_name": "Python 3",
   "language": "python",
   "name": "python3"
  },
  "language_info": {
   "codemirror_mode": {
    "name": "ipython",
    "version": 3
   },
   "file_extension": ".py",
   "mimetype": "text/x-python",
   "name": "python",
   "nbconvert_exporter": "python",
   "pygments_lexer": "ipython3",
   "version": "3.7.3"
  },
  "toc": {
   "base_numbering": 1,
   "nav_menu": {},
   "number_sections": true,
   "sideBar": true,
   "skip_h1_title": false,
   "title_cell": "Table of Contents",
   "title_sidebar": "Contents",
   "toc_cell": false,
   "toc_position": {},
   "toc_section_display": true,
   "toc_window_display": false
  }
 },
 "nbformat": 4,
 "nbformat_minor": 2
}
